{
 "cells": [
  {
   "cell_type": "markdown",
   "metadata": {},
   "source": [
    "<html lang=\"en\">\n",
    "<head>\n",
    "    <meta charset=\"UTF-8\">\n",
    "    <meta name=\"viewport\" content=\"width=device-width, initial-scale=1.0\">\n",
    "    <title>Health Website</title>\n",
    "    <!-- Add your CSS stylesheets and JavaScript files here -->\n",
    "    <link rel=\"stylesheet\" href=\"styles.css\">\n",
    "</head>\n",
    "<body>\n",
    "    <!-- Header Section -->\n",
    "    <header>\n",
    "        <h1>Welcome to Your Health Website</h1>\n",
    "        <nav>\n",
    "            <ul>\n",
    "                <li><a href=\"#\">Home</a></li>\n",
    "                <li><a href=\"#\">Services</a></li>\n",
    "                <li><a href=\"#\">About Us</a></li>\n",
    "                <li><a href=\"#\">Contact</a></li>\n",
    "            </ul>\n",
    "        </nav>\n",
    "    </header>\n",
    "\n",
    "    <!-- Main Content Section -->\n",
    "    <main>\n",
    "        <section id=\"about this website\">\n",
    "            <h2>About Us</h2>\n",
    "            <p>This is the about section of our website.Where you can get any help regarding your health</p>\n",
    "        </section>\n",
    "\n",
    "        <section id=\"services\">\n",
    "            <h2>Our Services</h2>\n",
    "            <ul>\n",
    "                <li>Service 1</li>\n",
    "                <li>Service 2</li>\n",
    "                <li>Service 3</li>\n",
    "            </ul>\n",
    "        </section>\n",
    "\n",
    "        <section id=\"contact\">\n",
    "            <h2>Contact Us</h2>\n",
    "            <p>Contact information goes here.</p>\n",
    "        </section>\n",
    "    </main>\n",
    "\n",
    "    <!-- Footer Section -->\n",
    "    <footer>\n",
    "        <p>&copy; 2023 Your Health Website</p>\n",
    "    </footer>\n",
    "    </head>\n",
    "    </html>\n",
    "    \n",
    "    \n"
   ]
  }
 ],
 "metadata": {
  "language_info": {
   "name": "python"
  }
 },
 "nbformat": 4,
 "nbformat_minor": 2
}
